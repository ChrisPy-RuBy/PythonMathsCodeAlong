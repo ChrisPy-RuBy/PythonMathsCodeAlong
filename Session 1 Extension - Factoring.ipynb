{
 "cells": [
  {
   "cell_type": "markdown",
   "metadata": {},
   "source": [
    "**Compound Interest Task**"
   ]
  },
  {
   "cell_type": "code",
   "execution_count": null,
   "metadata": {},
   "outputs": [],
   "source": [
    "# Write a function to calculate the balance of an account initially containing\n",
    "# B pounds after N years with interest compounded at a rate of R percent per year\n",
    "def compounded_balance(B, N, P):\n",
    "    # Convert P from percent to fractional\n",
    "    P = 1 + ( P / 100.0 )\n",
    "    for year in range(N):\n",
    "        B *= P\n",
    "    return B"
   ]
  },
  {
   "cell_type": "code",
   "execution_count": null,
   "metadata": {},
   "outputs": [],
   "source": [
    "compounded_balance(100, 1, 5.0)"
   ]
  },
  {
   "cell_type": "markdown",
   "metadata": {},
   "source": [
    "**Factorization Tasks**"
   ]
  },
  {
   "cell_type": "code",
   "execution_count": 1,
   "metadata": {},
   "outputs": [],
   "source": [
    "import math\n",
    "def simple_factorise(x):\n",
    "    factors = []\n",
    "    for number in range( x, 0, -1 ):\n",
    "        if x % number == 0:\n",
    "            factors.append(number)\n",
    "    return factors"
   ]
  },
  {
   "cell_type": "code",
   "execution_count": 2,
   "metadata": {},
   "outputs": [
    {
     "name": "stdout",
     "output_type": "stream",
     "text": [
      "12.6 ms ± 217 µs per loop (mean ± std. dev. of 7 runs, 100 loops each)\n"
     ]
    }
   ],
   "source": [
    "%timeit simple_factorise(100001)"
   ]
  },
  {
   "cell_type": "code",
   "execution_count": 3,
   "metadata": {},
   "outputs": [],
   "source": [
    "def slightly_better_factorise(x):\n",
    "    factors = []\n",
    "    low_limit = math.floor( math.sqrt(x) )\n",
    "    for number in range( x, low_limit, -1):\n",
    "        if x % number == 0:\n",
    "            factors.append( number )\n",
    "            cofactor = int( x / number )\n",
    "            if cofactor != number:\n",
    "                factors.append( cofactor )\n",
    "    return factors"
   ]
  },
  {
   "cell_type": "code",
   "execution_count": 5,
   "metadata": {},
   "outputs": [
    {
     "name": "stdout",
     "output_type": "stream",
     "text": [
      "12.5 ms ± 134 µs per loop (mean ± std. dev. of 7 runs, 100 loops each)\n"
     ]
    }
   ],
   "source": [
    "%timeit slightly_better_factorise(100001)"
   ]
  },
  {
   "cell_type": "code",
   "execution_count": 6,
   "metadata": {},
   "outputs": [],
   "source": [
    "import math\n",
    "def even_better_factorise(x):\n",
    "    factors = []\n",
    "    high_limit = math.ceil( math.sqrt(x) )\n",
    "    for number in range( 1, high_limit, 1):\n",
    "        if x % number == 0:\n",
    "            factors.append( number )\n",
    "            cofactor = int( x / number )\n",
    "            if cofactor != number:\n",
    "                factors.append( cofactor )\n",
    "    return factors"
   ]
  },
  {
   "cell_type": "code",
   "execution_count": 7,
   "metadata": {},
   "outputs": [
    {
     "name": "stdout",
     "output_type": "stream",
     "text": [
      "43.4 µs ± 514 ns per loop (mean ± std. dev. of 7 runs, 10000 loops each)\n"
     ]
    }
   ],
   "source": [
    "%timeit even_better_factorise(100001)"
   ]
  },
  {
   "cell_type": "code",
   "execution_count": 8,
   "metadata": {},
   "outputs": [],
   "source": [
    "def prime_factors(x):\n",
    "    x = int(x)\n",
    "    factors = []\n",
    "    high_limit = math.ceil( math.sqrt(x) )\n",
    "    # Try two's first\n",
    "    while x % 2 == 0:\n",
    "        x = int( x / 2 )\n",
    "        factors.append(2)\n",
    "    # Now no even factors left, start at three, try only odd factors\n",
    "    for trial_factor in range(3, high_limit, 2):\n",
    "        while x % trial_factor == 0:\n",
    "            x = int( x / trial_factor )\n",
    "            factors.append(trial_factor)\n",
    "        if x == 1:\n",
    "            break\n",
    "    if x > 2:\n",
    "        factors.append( x )\n",
    "    return factors"
   ]
  },
  {
   "cell_type": "code",
   "execution_count": 9,
   "metadata": {},
   "outputs": [
    {
     "name": "stdout",
     "output_type": "stream",
     "text": [
      "[2, 2, 5]\n",
      "[2, 2, 2, 7]\n"
     ]
    }
   ],
   "source": [
    "print(prime_factors(20))\n",
    "print(prime_factors(56))"
   ]
  },
  {
   "cell_type": "markdown",
   "metadata": {},
   "source": [
    "**Highest Common Factor**"
   ]
  },
  {
   "cell_type": "code",
   "execution_count": 10,
   "metadata": {},
   "outputs": [],
   "source": [
    "# First, we will need a function to return a list of the common elements from two input lists\n",
    "# Two ways to do this spring to mind - simple list based iteration, or single pass using a dict to bin one list"
   ]
  },
  {
   "cell_type": "code",
   "execution_count": 11,
   "metadata": {},
   "outputs": [],
   "source": [
    "def find_common_elements_list(list_a, list_b):\n",
    "    common = []\n",
    "    #num_ops = 0\n",
    "    for a in list_a:\n",
    "        for index, b in enumerate(list_b):\n",
    "            #num_ops += 1\n",
    "            if a == b:\n",
    "                common.append(list_b.pop(index))\n",
    "                break\n",
    "    #print(num_ops)\n",
    "    return common\n",
    "\n",
    "def find_common_elements_dict(list_a, list_b):\n",
    "    a_dict = {}\n",
    "    #num_ops = 0\n",
    "    for a in list_a:\n",
    "        #num_ops += 1\n",
    "        if a in a_dict:\n",
    "            a_dict[a] += 1\n",
    "        else:\n",
    "            a_dict[a] = 1\n",
    "            \n",
    "    common = []\n",
    "    for b in list_b:\n",
    "        #num_ops += 1\n",
    "        if b in a_dict:\n",
    "            common.append(b)\n",
    "            a_dict[b] -= 1\n",
    "            if a_dict[b] == 0:\n",
    "                del a_dict[b]\n",
    "    #print(num_ops)\n",
    "    return common"
   ]
  },
  {
   "cell_type": "code",
   "execution_count": 12,
   "metadata": {},
   "outputs": [],
   "source": [
    "import random\n",
    "list_a = random.sample(range(1, 100000), 1000)\n",
    "list_b = random.sample(range(1, 100000), 1000)"
   ]
  },
  {
   "cell_type": "code",
   "execution_count": 14,
   "metadata": {},
   "outputs": [
    {
     "name": "stdout",
     "output_type": "stream",
     "text": [
      "107 ms ± 1.95 ms per loop (mean ± std. dev. of 7 runs, 10 loops each)\n"
     ]
    }
   ],
   "source": [
    "find_common_elements_list(list_a, list_b)\n",
    "%timeit find_common_elements_list(list_a, list_b)"
   ]
  },
  {
   "cell_type": "code",
   "execution_count": 16,
   "metadata": {},
   "outputs": [
    {
     "name": "stdout",
     "output_type": "stream",
     "text": [
      "305 µs ± 3.21 µs per loop (mean ± std. dev. of 7 runs, 1000 loops each)\n"
     ]
    }
   ],
   "source": [
    "list_a = random.sample(range(1, 100000), 1000)\n",
    "list_b = random.sample(range(1, 100000), 1000)\n",
    "find_common_elements_dict(list_a, list_b)\n",
    "%timeit find_common_elements_dict(list_a, list_b)"
   ]
  },
  {
   "cell_type": "code",
   "execution_count": 17,
   "metadata": {},
   "outputs": [],
   "source": [
    "def highest_common_factor(a, b):\n",
    "    a = int(a)\n",
    "    b = int(b)\n",
    "    pfs_a = prime_factors(a)\n",
    "    pfs_b = prime_factors(b)\n",
    "    common_pfs = find_common_elements_dict(pfs_a, pfs_b)\n",
    "    \n",
    "    hcm = 1\n",
    "    for factor in common_pfs:\n",
    "        hcm *= factor\n",
    "    return hcm"
   ]
  },
  {
   "cell_type": "code",
   "execution_count": 20,
   "metadata": {},
   "outputs": [
    {
     "data": {
      "text/plain": [
       "4"
      ]
     },
     "execution_count": 20,
     "metadata": {},
     "output_type": "execute_result"
    }
   ],
   "source": [
    "highest_common_factor(140,264)"
   ]
  }
 ],
 "metadata": {
  "kernelspec": {
   "display_name": "Python 3",
   "language": "python",
   "name": "python3"
  },
  "language_info": {
   "codemirror_mode": {
    "name": "ipython",
    "version": 3
   },
   "file_extension": ".py",
   "mimetype": "text/x-python",
   "name": "python",
   "nbconvert_exporter": "python",
   "pygments_lexer": "ipython3",
   "version": "3.6.6"
  }
 },
 "nbformat": 4,
 "nbformat_minor": 2
}
