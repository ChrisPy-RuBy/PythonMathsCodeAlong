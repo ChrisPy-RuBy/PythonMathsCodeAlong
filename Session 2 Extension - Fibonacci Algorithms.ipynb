{
 "cells": [
  {
   "cell_type": "markdown",
   "metadata": {},
   "source": [
    "$$f_{i} = f_{i-1} + f_{i-2}, \\quad (i \\in \\mathbb{Z},\\ i \\geq 3,\\ f_{1} = 0,\\ f_{2} = 1)$$"
   ]
  },
  {
   "cell_type": "code",
   "execution_count": 3,
   "metadata": {},
   "outputs": [],
   "source": [
    "def fib_recursive(n, call_hist):\n",
    "    call_hist[n] += 1\n",
    "    if n == 1 or n == 2:\n",
    "        return 1\n",
    "    else:\n",
    "        return fib_recursive(n-1, call_hist) + fib_recursive(n-2, call_hist)\n",
    "    "
   ]
  },
  {
   "cell_type": "code",
   "execution_count": 4,
   "metadata": {},
   "outputs": [
    {
     "data": {
      "text/plain": [
       "5702887"
      ]
     },
     "execution_count": 4,
     "metadata": {},
     "output_type": "execute_result"
    }
   ],
   "source": [
    "import numpy as np\n",
    "n = 34\n",
    "call_hist = list(np.zeros(n+1, dtype=int))\n",
    "fib_recursive(n, call_hist)"
   ]
  },
  {
   "cell_type": "code",
   "execution_count": 6,
   "metadata": {},
   "outputs": [
    {
     "name": "stdout",
     "output_type": "stream",
     "text": [
      "fib_recursive( 1 ) no. of calls= 2178309\n",
      "fib_recursive( 2 ) no. of calls= 3524578\n",
      "fib_recursive( 3 ) no. of calls= 2178309\n",
      "fib_recursive( 4 ) no. of calls= 1346269\n",
      "fib_recursive( 5 ) no. of calls= 832040\n",
      "fib_recursive( 6 ) no. of calls= 514229\n",
      "fib_recursive( 7 ) no. of calls= 317811\n",
      "fib_recursive( 8 ) no. of calls= 196418\n",
      "fib_recursive( 9 ) no. of calls= 121393\n",
      "fib_recursive( 10 ) no. of calls= 75025\n",
      "fib_recursive( 11 ) no. of calls= 46368\n",
      "fib_recursive( 12 ) no. of calls= 28657\n",
      "fib_recursive( 13 ) no. of calls= 17711\n",
      "fib_recursive( 14 ) no. of calls= 10946\n",
      "fib_recursive( 15 ) no. of calls= 6765\n",
      "fib_recursive( 16 ) no. of calls= 4181\n",
      "fib_recursive( 17 ) no. of calls= 2584\n",
      "fib_recursive( 18 ) no. of calls= 1597\n",
      "fib_recursive( 19 ) no. of calls= 987\n",
      "fib_recursive( 20 ) no. of calls= 610\n",
      "fib_recursive( 21 ) no. of calls= 377\n",
      "fib_recursive( 22 ) no. of calls= 233\n",
      "fib_recursive( 23 ) no. of calls= 144\n",
      "fib_recursive( 24 ) no. of calls= 89\n",
      "fib_recursive( 25 ) no. of calls= 55\n",
      "fib_recursive( 26 ) no. of calls= 34\n",
      "fib_recursive( 27 ) no. of calls= 21\n",
      "fib_recursive( 28 ) no. of calls= 13\n",
      "fib_recursive( 29 ) no. of calls= 8\n",
      "fib_recursive( 30 ) no. of calls= 5\n",
      "fib_recursive( 31 ) no. of calls= 3\n",
      "fib_recursive( 32 ) no. of calls= 2\n",
      "fib_recursive( 33 ) no. of calls= 1\n",
      "fib_recursive( 34 ) no. of calls= 1\n"
     ]
    }
   ],
   "source": [
    "for i in range(1, len(call_hist)):\n",
    "    print(\"fib_recursive(\",i,\") no. of calls=\",call_hist[i])"
   ]
  },
  {
   "cell_type": "code",
   "execution_count": 7,
   "metadata": {},
   "outputs": [],
   "source": [
    "def fib_recursive_memo(n, call_hist, memos):\n",
    "    if memos[n] != None:\n",
    "        return memos[n]\n",
    "    else:\n",
    "        call_hist[n] += 1\n",
    "        if n == 1 or n == 2:\n",
    "            memos[n] = 1\n",
    "            return memos[n]\n",
    "        else:\n",
    "            memos[n] = fib_recursive_memo(n-1, call_hist, memos) + fib_recursive_memo(n-2, call_hist, memos)\n",
    "            return memos[n]"
   ]
  },
  {
   "cell_type": "code",
   "execution_count": 8,
   "metadata": {},
   "outputs": [
    {
     "data": {
      "text/plain": [
       "5702887"
      ]
     },
     "execution_count": 8,
     "metadata": {},
     "output_type": "execute_result"
    }
   ],
   "source": [
    "call_hist = list(np.zeros(n+1, dtype=int))\n",
    "memos = list(np.full(n+1, None))\n",
    "fib_recursive_memo(n, call_hist, memos)"
   ]
  },
  {
   "cell_type": "code",
   "execution_count": 49,
   "metadata": {},
   "outputs": [
    {
     "name": "stdout",
     "output_type": "stream",
     "text": [
      "memos[ 1 ] = 1\n",
      "memos[ 2 ] = 1\n",
      "memos[ 3 ] = 2\n",
      "memos[ 4 ] = 3\n",
      "memos[ 5 ] = 5\n",
      "memos[ 6 ] = 8\n",
      "memos[ 7 ] = 13\n",
      "memos[ 8 ] = 21\n",
      "memos[ 9 ] = 34\n",
      "memos[ 10 ] = 55\n",
      "memos[ 11 ] = 89\n",
      "memos[ 12 ] = 144\n",
      "memos[ 13 ] = 233\n",
      "memos[ 14 ] = 377\n",
      "memos[ 15 ] = 610\n",
      "memos[ 16 ] = 987\n",
      "memos[ 17 ] = 1597\n",
      "memos[ 18 ] = 2584\n",
      "memos[ 19 ] = 4181\n",
      "memos[ 20 ] = 6765\n",
      "memos[ 21 ] = 10946\n",
      "memos[ 22 ] = 17711\n",
      "memos[ 23 ] = 28657\n",
      "memos[ 24 ] = 46368\n",
      "memos[ 25 ] = 75025\n",
      "memos[ 26 ] = 121393\n",
      "memos[ 27 ] = 196418\n",
      "memos[ 28 ] = 317811\n",
      "memos[ 29 ] = 514229\n",
      "memos[ 30 ] = 832040\n",
      "memos[ 31 ] = 1346269\n",
      "memos[ 32 ] = 2178309\n",
      "memos[ 33 ] = 3524578\n",
      "memos[ 34 ] = 5702887\n"
     ]
    }
   ],
   "source": [
    "for i in range(1, len(memos)):\n",
    "    print(\"memos[\",i,\"] =\",memos[i])"
   ]
  },
  {
   "cell_type": "code",
   "execution_count": 9,
   "metadata": {},
   "outputs": [
    {
     "name": "stdout",
     "output_type": "stream",
     "text": [
      "fib_recursive_memo( 1 ) no. of calls= 1\n",
      "fib_recursive_memo( 2 ) no. of calls= 1\n",
      "fib_recursive_memo( 3 ) no. of calls= 1\n",
      "fib_recursive_memo( 4 ) no. of calls= 1\n",
      "fib_recursive_memo( 5 ) no. of calls= 1\n",
      "fib_recursive_memo( 6 ) no. of calls= 1\n",
      "fib_recursive_memo( 7 ) no. of calls= 1\n",
      "fib_recursive_memo( 8 ) no. of calls= 1\n",
      "fib_recursive_memo( 9 ) no. of calls= 1\n",
      "fib_recursive_memo( 10 ) no. of calls= 1\n",
      "fib_recursive_memo( 11 ) no. of calls= 1\n",
      "fib_recursive_memo( 12 ) no. of calls= 1\n",
      "fib_recursive_memo( 13 ) no. of calls= 1\n",
      "fib_recursive_memo( 14 ) no. of calls= 1\n",
      "fib_recursive_memo( 15 ) no. of calls= 1\n",
      "fib_recursive_memo( 16 ) no. of calls= 1\n",
      "fib_recursive_memo( 17 ) no. of calls= 1\n",
      "fib_recursive_memo( 18 ) no. of calls= 1\n",
      "fib_recursive_memo( 19 ) no. of calls= 1\n",
      "fib_recursive_memo( 20 ) no. of calls= 1\n",
      "fib_recursive_memo( 21 ) no. of calls= 1\n",
      "fib_recursive_memo( 22 ) no. of calls= 1\n",
      "fib_recursive_memo( 23 ) no. of calls= 1\n",
      "fib_recursive_memo( 24 ) no. of calls= 1\n",
      "fib_recursive_memo( 25 ) no. of calls= 1\n",
      "fib_recursive_memo( 26 ) no. of calls= 1\n",
      "fib_recursive_memo( 27 ) no. of calls= 1\n",
      "fib_recursive_memo( 28 ) no. of calls= 1\n",
      "fib_recursive_memo( 29 ) no. of calls= 1\n",
      "fib_recursive_memo( 30 ) no. of calls= 1\n",
      "fib_recursive_memo( 31 ) no. of calls= 1\n",
      "fib_recursive_memo( 32 ) no. of calls= 1\n",
      "fib_recursive_memo( 33 ) no. of calls= 1\n",
      "fib_recursive_memo( 34 ) no. of calls= 1\n"
     ]
    }
   ],
   "source": [
    "for i in range(1, len(call_hist)):\n",
    "    print(\"fib_recursive_memo(\",i,\") no. of calls=\",call_hist[i])"
   ]
  },
  {
   "cell_type": "code",
   "execution_count": null,
   "metadata": {},
   "outputs": [],
   "source": []
  },
  {
   "cell_type": "code",
   "execution_count": null,
   "metadata": {},
   "outputs": [],
   "source": []
  }
 ],
 "metadata": {
  "kernelspec": {
   "display_name": "Python 3",
   "language": "python",
   "name": "python3"
  },
  "language_info": {
   "codemirror_mode": {
    "name": "ipython",
    "version": 3
   },
   "file_extension": ".py",
   "mimetype": "text/x-python",
   "name": "python",
   "nbconvert_exporter": "python",
   "pygments_lexer": "ipython3",
   "version": "3.6.5"
  }
 },
 "nbformat": 4,
 "nbformat_minor": 2
}
