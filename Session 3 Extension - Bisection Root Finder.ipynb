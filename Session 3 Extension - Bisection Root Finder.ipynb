{
 "cells": [
  {
   "cell_type": "code",
   "execution_count": 55,
   "metadata": {},
   "outputs": [],
   "source": [
    "from math import log\n",
    "def bisection_root_finder(start, end, delta, fn):\n",
    "    iteration = 0\n",
    "    while True:\n",
    "        iteration += 1\n",
    "        mid = (start + end)/2.0\n",
    "        diff = abs(start - end)\n",
    "        print(\"iteration=\", iteration, \" mid=\", mid, \" diff =\", diff)\n",
    "        if diff < delta:\n",
    "            # loop while True with break mimics do...while in Python\n",
    "            break\n",
    "        if fn(mid) == 0:\n",
    "            # worth checking, but unlikely to happen\n",
    "            return mid\n",
    "        elif fn(start)*fn(mid) < 0:\n",
    "            # lower sector contains the root - fn changes sign in going from start to mid\n",
    "            end = mid\n",
    "        else:\n",
    "            # now, by elimination, upper sector must contain the root\n",
    "            start = mid\n",
    "    # round the result to the correct number of d.p. and return in a dict quoting uncertainty\n",
    "    # - round(a, b) rounds the value a to b d.p.'s\n",
    "    # - log(delta, 10) returns the number of powers of 10 in delta, \n",
    "    # - e.g. log(1E-10, 10) = -10\n",
    "    # - multiply by -1, round to nearest int, this is the number of d.p.'s at which to round(mid) \n",
    "    num_dps = round(-1*log(delta, 10))\n",
    "    return {'root': round(mid, num_dps), 'tol': delta}"
   ]
  },
  {
   "cell_type": "code",
   "execution_count": 56,
   "metadata": {},
   "outputs": [
    {
     "name": "stdout",
     "output_type": "stream",
     "text": [
      "iteration= 1  mid= 2.5  diff = 5\n",
      "iteration= 2  mid= 1.25  diff = 2.5\n",
      "iteration= 3  mid= 1.875  diff = 1.25\n",
      "iteration= 4  mid= 1.5625  diff = 0.625\n",
      "iteration= 5  mid= 1.71875  diff = 0.3125\n",
      "iteration= 6  mid= 1.796875  diff = 0.15625\n",
      "iteration= 7  mid= 1.7578125  diff = 0.078125\n",
      "iteration= 8  mid= 1.73828125  diff = 0.0390625\n",
      "iteration= 9  mid= 1.728515625  diff = 0.01953125\n",
      "iteration= 10  mid= 1.7333984375  diff = 0.009765625\n",
      "iteration= 11  mid= 1.73095703125  diff = 0.0048828125\n",
      "iteration= 12  mid= 1.732177734375  diff = 0.00244140625\n",
      "iteration= 13  mid= 1.7315673828125  diff = 0.001220703125\n",
      "iteration= 14  mid= 1.73187255859375  diff = 0.0006103515625\n",
      "iteration= 15  mid= 1.732025146484375  diff = 0.00030517578125\n",
      "iteration= 16  mid= 1.7321014404296875  diff = 0.000152587890625\n",
      "iteration= 17  mid= 1.7320632934570312  diff = 7.62939453125e-05\n",
      "iteration= 18  mid= 1.7320442199707031  diff = 3.814697265625e-05\n",
      "iteration= 19  mid= 1.7320537567138672  diff = 1.9073486328125e-05\n",
      "iteration= 20  mid= 1.7320489883422852  diff = 9.5367431640625e-06\n",
      "iteration= 21  mid= 1.7320513725280762  diff = 4.76837158203125e-06\n",
      "iteration= 22  mid= 1.7320501804351807  diff = 2.384185791015625e-06\n",
      "iteration= 23  mid= 1.7320507764816284  diff = 1.1920928955078125e-06\n",
      "iteration= 24  mid= 1.7320510745048523  diff = 5.960464477539062e-07\n",
      "iteration= 25  mid= 1.7320509254932404  diff = 2.980232238769531e-07\n",
      "iteration= 26  mid= 1.7320508509874344  diff = 1.4901161193847656e-07\n",
      "iteration= 27  mid= 1.7320508137345314  diff = 7.450580596923828e-08\n",
      "iteration= 28  mid= 1.73205079510808  diff = 3.725290298461914e-08\n",
      "iteration= 29  mid= 1.7320508044213057  diff = 1.862645149230957e-08\n",
      "iteration= 30  mid= 1.7320508090779185  diff = 9.313225746154785e-09\n",
      "iteration= 31  mid= 1.732050806749612  diff = 4.6566128730773926e-09\n",
      "iteration= 32  mid= 1.7320508079137653  diff = 2.3283064365386963e-09\n",
      "iteration= 33  mid= 1.7320508073316887  diff = 1.1641532182693481e-09\n",
      "iteration= 34  mid= 1.732050807622727  diff = 5.820766091346741e-10\n",
      "iteration= 35  mid= 1.7320508074772079  diff = 2.9103830456733704e-10\n",
      "iteration= 36  mid= 1.7320508075499674  diff = 1.4551915228366852e-10\n",
      "iteration= 37  mid= 1.7320508075863472  diff = 7.275957614183426e-11\n",
      "iteration= 38  mid= 1.7320508075681573  diff = 3.637978807091713e-11\n",
      "iteration= 39  mid= 1.7320508075772523  diff = 1.8189894035458565e-11\n",
      "iteration= 40  mid= 1.7320508075727048  diff = 9.094947017729282e-12\n",
      "iteration= 41  mid= 1.732050807570431  diff = 4.547473508864641e-12\n",
      "iteration= 42  mid= 1.7320508075692942  diff = 2.2737367544323206e-12\n",
      "iteration= 43  mid= 1.7320508075687258  diff = 1.1368683772161603e-12\n",
      "iteration= 44  mid= 1.73205080756901  diff = 5.684341886080801e-13\n",
      "iteration= 45  mid= 1.7320508075688679  diff = 2.8421709430404007e-13\n",
      "iteration= 46  mid= 1.732050807568939  diff = 1.4210854715202004e-13\n",
      "iteration= 47  mid= 1.7320508075689034  diff = 7.105427357601002e-14\n",
      "iteration= 48  mid= 1.7320508075688856  diff = 3.552713678800501e-14\n",
      "iteration= 49  mid= 1.7320508075688767  diff = 1.7763568394002505e-14\n",
      "iteration= 50  mid= 1.7320508075688812  diff = 8.881784197001252e-15\n",
      "iteration= 51  mid= 1.732050807568879  diff = 4.440892098500626e-15\n",
      "iteration= 52  mid= 1.7320508075688779  diff = 2.220446049250313e-15\n",
      "iteration= 53  mid= 1.7320508075688772  diff = 1.1102230246251565e-15\n",
      "iteration= 54  mid= 1.7320508075688776  diff = 6.661338147750939e-16\n"
     ]
    },
    {
     "data": {
      "text/plain": [
       "{'root': 1.732050807568878, 'tol': 1e-15}"
      ]
     },
     "execution_count": 56,
     "metadata": {},
     "output_type": "execute_result"
    }
   ],
   "source": [
    "squared = lambda x: x**2 - 3\n",
    "bisection_root_finder(start=0, end=5, delta=1E-15, fn=squared)"
   ]
  },
  {
   "cell_type": "code",
   "execution_count": 60,
   "metadata": {},
   "outputs": [
    {
     "data": {
      "image/png": "[encoded data removed]",
      "text/plain": [
       "<Figure size 432x288 with 1 Axes>"
      ]
     },
     "metadata": {
      "needs_background": "light"
     },
     "output_type": "display_data"
    },
    {
     "data": {
      "text/plain": [
       "1.732050807568877"
      ]
     },
     "execution_count": 60,
     "metadata": {},
     "output_type": "execute_result"
    }
   ],
   "source": [
    "from sympy import *\n",
    "x = symbols('x')\n",
    "eq = x**2 - 3\n",
    "plot(eq, (x,-5, 5))\n",
    "solve(eq,x)[1].n(16)"
   ]
  },
  {
   "cell_type": "code",
   "execution_count": null,
   "metadata": {},
   "outputs": [],
   "source": []
  }
 ],
 "metadata": {
  "kernelspec": {
   "display_name": "Python 3",
   "language": "python",
   "name": "python3"
  },
  "language_info": {
   "codemirror_mode": {
    "name": "ipython",
    "version": 3
   },
   "file_extension": ".py",
   "mimetype": "text/x-python",
   "name": "python",
   "nbconvert_exporter": "python",
   "pygments_lexer": "ipython3",
   "version": "3.6.6"
  }
 },
 "nbformat": 4,
 "nbformat_minor": 2
}
