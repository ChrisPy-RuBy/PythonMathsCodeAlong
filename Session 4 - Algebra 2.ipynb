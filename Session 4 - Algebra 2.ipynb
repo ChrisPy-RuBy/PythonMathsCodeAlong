{
 "cells": [
  {
   "cell_type": "code",
   "execution_count": 125,
   "metadata": {},
   "outputs": [],
   "source": [
    "from sympy import init_printing\n",
    "# Turn on SymPy stylised printing \n",
    "init_printing()\n",
    "# Prepare figure plotting\n",
    "import matplotlib.pyplot as plt\n",
    "plt.rcParams['figure.figsize'] = 5, 5"
   ]
  },
  {
   "cell_type": "markdown",
   "metadata": {},
   "source": [
    "# **Algebraic Fractions AKA Rational Functions**"
   ]
  },
  {
   "cell_type": "markdown",
   "metadata": {},
   "source": [
    "An algebraic fraction (or rational function) is a fancy name for the quotient (division, fraction) formed by two polynomials."
   ]
  },
  {
   "cell_type": "code",
   "execution_count": 134,
   "metadata": {},
   "outputs": [
    {
     "data": {
      "image/png": "[encoded data removed]",
      "text/latex": [
       "$$\\frac{2 x + 6}{x^{2} + x + 4}$$"
      ],
      "text/plain": [
       " 2⋅x + 6  \n",
       "──────────\n",
       " 2        \n",
       "x  + x + 4"
      ]
     },
     "execution_count": 134,
     "metadata": {},
     "output_type": "execute_result"
    }
   ],
   "source": [
    "from sympy import Poly, symbols\n",
    "x = symbols('x')\n",
    "numerator = Poly('2*x+6', x)\n",
    "denominator = Poly('x**2+x+4', x)\n",
    "alg_frac = numerator/denominator\n",
    "alg_frac"
   ]
  },
  {
   "cell_type": "markdown",
   "metadata": {},
   "source": [
    "If the numerator is of lower degree than the denominator, then the algebraic fraction is said to be 'proper'. The algebraic fraction above is proper, as the numerator is degree 1 (linear), and the denominator, degree 2 (quadratic). Otherwise we have an 'improper' fraction."
   ]
  },
  {
   "cell_type": "code",
   "execution_count": 135,
   "metadata": {},
   "outputs": [
    {
     "data": {
      "image/png": "[encoded data removed]",
      "text/latex": [
       "$$- \\frac{x^{2} + 4}{4 x}$$"
      ],
      "text/plain": [
       " ⎛ 2    ⎞ \n",
       "-⎝x  + 4⎠ \n",
       "──────────\n",
       "   4⋅x    "
      ]
     },
     "execution_count": 135,
     "metadata": {},
     "output_type": "execute_result"
    }
   ],
   "source": [
    "# An improper fraction, degree 2 over degree 1\n",
    "numerator = Poly('x**2+4', x)\n",
    "denominator = Poly('-4*x')\n",
    "alg_frac = numerator / denominator\n",
    "alg_frac\n"
   ]
  },
  {
   "cell_type": "code",
   "execution_count": 136,
   "metadata": {},
   "outputs": [
    {
     "data": {
      "image/png": "[encoded data removed]",
      "text/latex": [
       "$$\\frac{x^{3} - 12}{3 x^{3} + 12 x}$$"
      ],
      "text/plain": [
       "   3       \n",
       "  x  - 12  \n",
       "───────────\n",
       "   3       \n",
       "3⋅x  + 12⋅x"
      ]
     },
     "execution_count": 136,
     "metadata": {},
     "output_type": "execute_result"
    }
   ],
   "source": [
    "# Another improper fraction, degree 3 over degree 3\n",
    "numerator = Poly('x**3-12', x)\n",
    "denominator = Poly('3*x**3+12*x')\n",
    "alg_frac = numerator / denominator\n",
    "alg_frac"
   ]
  },
  {
   "cell_type": "markdown",
   "metadata": {},
   "source": [
    "**Manipulation of Algebraic Fractions**"
   ]
  },
  {
   "cell_type": "markdown",
   "metadata": {},
   "source": [
    "Improper algebraic fractions can be 'divided out'. This 'polynomial long division' is generally dreaded by Higher / A-level students, but SymPy makes it painless!"
   ]
  },
  {
   "cell_type": "code",
   "execution_count": 141,
   "metadata": {},
   "outputs": [
    {
     "data": {
      "image/png": "[encoded data removed]",
      "text/latex": [
       "$$x + 5 + \\frac{21}{2 \\left(x - 3\\right)}$$"
      ],
      "text/plain": [
       "            21   \n",
       "x + 5 + ─────────\n",
       "        2⋅(x - 3)"
      ]
     },
     "execution_count": 141,
     "metadata": {},
     "output_type": "execute_result"
    }
   ],
   "source": [
    "from sympy import apart\n",
    "numerator = Poly('2*x**2+4*x-9', x)\n",
    "denominator = Poly('2*x-6')\n",
    "alg_frac = numerator/denominator\n",
    "divided_form = apart(alg_frac)\n",
    "divided_form"
   ]
  },
  {
   "cell_type": "markdown",
   "metadata": {},
   "source": [
    "// Show how painful polynomial long division is on board"
   ]
  },
  {
   "cell_type": "markdown",
   "metadata": {},
   "source": [
    "Or we can use together() to accomplish the opposite process, bringing terms together into a single fraction"
   ]
  },
  {
   "cell_type": "code",
   "execution_count": 144,
   "metadata": {},
   "outputs": [
    {
     "data": {
      "image/png": "[encoded data removed]",
      "text/latex": [
       "$$x - 1 + \\frac{6}{x - 2}$$"
      ],
      "text/plain": [
       "          6  \n",
       "x - 1 + ─────\n",
       "        x - 2"
      ]
     },
     "execution_count": 144,
     "metadata": {},
     "output_type": "execute_result"
    }
   ],
   "source": [
    "divided_form = x-1 + 6/(x-2)\n",
    "divided_form"
   ]
  },
  {
   "cell_type": "code",
   "execution_count": 173,
   "metadata": {},
   "outputs": [
    {
     "data": {
      "image/png": "[encoded data removed]",
      "text/latex": [
       "$$\\frac{x \\left(x - 2\\right) - x + 8}{x - 2}$$"
      ],
      "text/plain": [
       "x⋅(x - 2) - x + 8\n",
       "─────────────────\n",
       "      x - 2      "
      ]
     },
     "execution_count": 173,
     "metadata": {},
     "output_type": "execute_result"
    }
   ],
   "source": [
    "from sympy import together\n",
    "single_fraction = together(divided_form)\n",
    "single_fraction"
   ]
  },
  {
   "cell_type": "markdown",
   "metadata": {},
   "source": [
    "We can also use the denom() and numer() functions to access the denominator and numerator, respectively, of the algebraic fraction"
   ]
  },
  {
   "cell_type": "code",
   "execution_count": 174,
   "metadata": {},
   "outputs": [
    {
     "data": {
      "image/png": "[encoded data removed]",
      "text/latex": [
       "$$x - 2$$"
      ],
      "text/plain": [
       "x - 2"
      ]
     },
     "execution_count": 174,
     "metadata": {},
     "output_type": "execute_result"
    }
   ],
   "source": [
    "from sympy import denom, numer\n",
    "denom(single_fraction)"
   ]
  },
  {
   "cell_type": "code",
   "execution_count": 175,
   "metadata": {},
   "outputs": [
    {
     "data": {
      "image/png": "[encoded data removed]",
      "text/latex": [
       "$$x \\left(x - 2\\right) - x + 8$$"
      ],
      "text/plain": [
       "x⋅(x - 2) - x + 8"
      ]
     },
     "execution_count": 175,
     "metadata": {},
     "output_type": "execute_result"
    }
   ],
   "source": [
    "numer(single_fraction)"
   ]
  },
  {
   "cell_type": "code",
   "execution_count": 177,
   "metadata": {},
   "outputs": [
    {
     "data": {
      "image/png": "[encoded data removed]",
      "text/latex": [
       "$$x^{2} - 3 x + 8$$"
      ],
      "text/plain": [
       " 2          \n",
       "x  - 3⋅x + 8"
      ]
     },
     "execution_count": 177,
     "metadata": {},
     "output_type": "execute_result"
    }
   ],
   "source": [
    "# This allows for manipulation of the numerator and denominator separately, e.g.\n",
    "from sympy import expand\n",
    "expand(numer(single_fraction))"
   ]
  },
  {
   "cell_type": "markdown",
   "metadata": {},
   "source": [
    "**Partial Fractions**"
   ]
  },
  {
   "cell_type": "markdown",
   "metadata": {},
   "source": [
    "As an example of how we can manipulate algebraic fractions, here is a classic problem from A-level / Advanced Higher. Write the rational function (3x + 5) / (2x^2 - 5x + 3) as a sum of partial fractions of the form A / (x-3) + B / (2x+1) <br><br>\n",
    "You may well wonder \"Great, but why?!\". Partial fraction decompositions can be useful in calculus, in particular for integration, as we'll perhaps see later on."
   ]
  },
  {
   "cell_type": "code",
   "execution_count": 206,
   "metadata": {},
   "outputs": [
    {
     "data": {
      "image/png": "[encoded data removed]",
      "text/latex": [
       "$$\\left \\{ A : 2, \\quad B : -1\\right \\}$$"
      ],
      "text/plain": [
       "{A: 2, B: -1}"
      ]
     },
     "execution_count": 206,
     "metadata": {},
     "output_type": "execute_result"
    }
   ],
   "source": [
    "from sympy import Eq, solve\n",
    "x, A, B = symbols('x,A,B')\n",
    "lhs = (3*x+5) / (2*x**2-5*x-3)\n",
    "rhs = (A / (x-3)) + (B / (2*x+1))\n",
    "eq = Eq(lhs, rhs)\n",
    "soln = solve(eq, [A,B])\n",
    "soln"
   ]
  },
  {
   "cell_type": "code",
   "execution_count": 207,
   "metadata": {},
   "outputs": [
    {
     "data": {
      "image/png": "[encoded data removed]",
      "text/latex": [
       "$$0$$"
      ],
      "text/plain": [
       "0"
      ]
     },
     "execution_count": 207,
     "metadata": {},
     "output_type": "execute_result"
    }
   ],
   "source": [
    "# Check: lhs - rhs should be zero with correct values of A and B substituted in to the rhs\n",
    "# See the section below on Equality in SymPy\n",
    "simplify(lhs - rhs.subs(soln)) "
   ]
  },
  {
   "cell_type": "code",
   "execution_count": 208,
   "metadata": {},
   "outputs": [
    {
     "data": {
      "image/png": "[encoded data removed]",
      "text/latex": [
       "$$\\frac{3 x + 5}{\\left(x - 3\\right) \\left(2 x + 1\\right)}$$"
      ],
      "text/plain": [
       "     3⋅x + 5     \n",
       "─────────────────\n",
       "(x - 3)⋅(2⋅x + 1)"
      ]
     },
     "execution_count": 208,
     "metadata": {},
     "output_type": "execute_result"
    }
   ],
   "source": [
    "# Or, alternatively\n",
    "rhs_as_single_frac = together(rhs.subs(soln))\n",
    "rhs_as_single_frac"
   ]
  },
  {
   "cell_type": "code",
   "execution_count": 209,
   "metadata": {},
   "outputs": [
    {
     "data": {
      "image/png": "[encoded data removed]",
      "text/latex": [
       "$$3 x + 5$$"
      ],
      "text/plain": [
       "3⋅x + 5"
      ]
     },
     "execution_count": 209,
     "metadata": {},
     "output_type": "execute_result"
    }
   ],
   "source": [
    "expand(numer(rhs_as_single_frac))"
   ]
  },
  {
   "cell_type": "code",
   "execution_count": 211,
   "metadata": {},
   "outputs": [
    {
     "data": {
      "image/png": "[encoded data removed]",
      "text/latex": [
       "$$2 x^{2} - 5 x - 3$$"
      ],
      "text/plain": [
       "   2          \n",
       "2⋅x  - 5⋅x - 3"
      ]
     },
     "execution_count": 211,
     "metadata": {},
     "output_type": "execute_result"
    }
   ],
   "source": [
    "expand(denom(rhs_as_single_frac))"
   ]
  },
  {
   "cell_type": "markdown",
   "metadata": {},
   "source": [
    "# **Equality in SymPy**"
   ]
  },
  {
   "cell_type": "markdown",
   "metadata": {},
   "source": [
    "Checking the equality of expressions in SymPy is slightly tricky. This is due to the tree structure used to represent expressions."
   ]
  },
  {
   "cell_type": "code",
   "execution_count": 212,
   "metadata": {},
   "outputs": [],
   "source": [
    "x = symbols('x')\n",
    "expr1 = (x-2)*(x+4)\n",
    "expr2 = x**2 + 2*x - 8"
   ]
  },
  {
   "cell_type": "code",
   "execution_count": 226,
   "metadata": {},
   "outputs": [
    {
     "data": {
      "text/plain": [
       "sympy.core.mul.Mul"
      ]
     },
     "execution_count": 226,
     "metadata": {},
     "output_type": "execute_result"
    }
   ],
   "source": [
    "# expr1 is a multiplication of two terms\n",
    "type(expr1)"
   ]
  },
  {
   "cell_type": "code",
   "execution_count": 228,
   "metadata": {},
   "outputs": [
    {
     "data": {
      "image/png": "[encoded data removed]",
      "text/latex": [
       "$$\\left ( x - 2, \\quad x + 4\\right )$$"
      ],
      "text/plain": [
       "(x - 2, x + 4)"
      ]
     },
     "execution_count": 228,
     "metadata": {},
     "output_type": "execute_result"
    }
   ],
   "source": [
    "# the terms are held in the .args instance variable\n",
    "expr1.args"
   ]
  },
  {
   "cell_type": "code",
   "execution_count": 232,
   "metadata": {},
   "outputs": [
    {
     "data": {
      "text/plain": [
       "(sympy.core.add.Add, sympy.core.add.Add)"
      ]
     },
     "execution_count": 232,
     "metadata": {},
     "output_type": "execute_result"
    }
   ],
   "source": [
    "# each of the terms itself has a type\n",
    "type(expr1.args[0]), type(expr1.args[1])"
   ]
  },
  {
   "cell_type": "code",
   "execution_count": 233,
   "metadata": {},
   "outputs": [
    {
     "data": {
      "image/png": "[encoded data removed]",
      "text/latex": [
       "$$\\left ( \\left ( -2, \\quad x\\right ), \\quad \\left ( 4, \\quad x\\right )\\right )$$"
      ],
      "text/plain": [
       "((-2, x), (4, x))"
      ]
     },
     "execution_count": 233,
     "metadata": {},
     "output_type": "execute_result"
    }
   ],
   "source": [
    "# So first term is an Add(), and second also an Add()\n",
    "# here are the terms of the terms\n",
    "expr1.args[0].args, expr1.args[1].args"
   ]
  },
  {
   "cell_type": "code",
   "execution_count": 216,
   "metadata": {},
   "outputs": [
    {
     "data": {
      "text/plain": [
       "sympy.core.add.Add"
      ]
     },
     "execution_count": 216,
     "metadata": {},
     "output_type": "execute_result"
    }
   ],
   "source": [
    "# The tree representing expr2 differs even at the root node\n",
    "type(expr2)"
   ]
  },
  {
   "cell_type": "code",
   "execution_count": 218,
   "metadata": {},
   "outputs": [
    {
     "data": {
      "text/plain": [
       "False"
      ]
     },
     "execution_count": 218,
     "metadata": {},
     "output_type": "execute_result"
    }
   ],
   "source": [
    "# We know these expressions should be equal, but straightforward equality comparison doesn't work\n",
    "# This is because the two trees differ.\n",
    "expr1 == expr2"
   ]
  },
  {
   "cell_type": "code",
   "execution_count": 221,
   "metadata": {},
   "outputs": [
    {
     "data": {
      "image/png": "[encoded data removed]",
      "text/latex": [
       "$$0$$"
      ],
      "text/plain": [
       "0"
      ]
     },
     "execution_count": 221,
     "metadata": {},
     "output_type": "execute_result"
    }
   ],
   "source": [
    "# Instead, it's easiest to do something like this\n",
    "simplify(expr1 - expr2)"
   ]
  },
  {
   "cell_type": "code",
   "execution_count": 234,
   "metadata": {},
   "outputs": [
    {
     "data": {
      "image/png": "[encoded data removed]",
      "text/latex": [
       "$$x^{2} + 2 x - 8$$"
      ],
      "text/plain": [
       " 2          \n",
       "x  + 2⋅x - 8"
      ]
     },
     "execution_count": 234,
     "metadata": {},
     "output_type": "execute_result"
    }
   ],
   "source": [
    "# Or, you can work on one expression to make it more like the other\n",
    "# But it isn't always obvious how to do this, and the lhs - rhs subtraction method above is generally easiest\n",
    "from sympy import expand\n",
    "expand(expr1)"
   ]
  },
  {
   "cell_type": "code",
   "execution_count": 235,
   "metadata": {},
   "outputs": [
    {
     "data": {
      "text/plain": [
       "True"
      ]
     },
     "execution_count": 235,
     "metadata": {},
     "output_type": "execute_result"
    }
   ],
   "source": [
    "expand(expr1) == expr2"
   ]
  },
  {
   "cell_type": "code",
   "execution_count": 239,
   "metadata": {},
   "outputs": [
    {
     "data": {
      "image/png": "[encoded data removed]",
      "text/latex": [
       "$$\\left(x - 2\\right) \\left(x + 4\\right)$$"
      ],
      "text/plain": [
       "(x - 2)⋅(x + 4)"
      ]
     },
     "execution_count": 239,
     "metadata": {},
     "output_type": "execute_result"
    }
   ],
   "source": [
    "# Alternatively, factorise expr2\n",
    "expr2.factor()"
   ]
  },
  {
   "cell_type": "code",
   "execution_count": 241,
   "metadata": {},
   "outputs": [
    {
     "data": {
      "text/plain": [
       "True"
      ]
     },
     "execution_count": 241,
     "metadata": {},
     "output_type": "execute_result"
    }
   ],
   "source": [
    "expr1 == expr2.factor()"
   ]
  },
  {
   "cell_type": "markdown",
   "metadata": {},
   "source": [
    "# **Sympify - Converting Text to Maths**"
   ]
  },
  {
   "cell_type": "markdown",
   "metadata": {},
   "source": [
    "SymPy offers the sympify() function, which converts a string into a symbolic object. Not to be confused with simplify(), which simplifies an expression as far as possible"
   ]
  },
  {
   "cell_type": "code",
   "execution_count": 22,
   "metadata": {},
   "outputs": [
    {
     "data": {
      "image/png": "[encoded data removed]",
      "text/latex": [
       "$$2 x + 3 y + 9$$"
      ],
      "text/plain": [
       "2⋅x + 3⋅y + 9"
      ]
     },
     "execution_count": 22,
     "metadata": {},
     "output_type": "execute_result"
    }
   ],
   "source": [
    "from sympy import symbols, sympify, S\n",
    "x, y = symbols('x,y')\n",
    "expression = sympify('2*x+3*y+9')\n",
    "expression"
   ]
  },
  {
   "cell_type": "code",
   "execution_count": 17,
   "metadata": {},
   "outputs": [
    {
     "data": {
      "image/png": "[encoded data removed]",
      "text/latex": [
       "$$12 x - 9 y^{2}$$"
      ],
      "text/plain": [
       "          2\n",
       "12⋅x - 9⋅y "
      ]
     },
     "execution_count": 17,
     "metadata": {},
     "output_type": "execute_result"
    }
   ],
   "source": [
    "# Can also use the convenient S() function\n",
    "S('12*x - 9*y**2')"
   ]
  },
  {
   "cell_type": "code",
   "execution_count": 23,
   "metadata": {},
   "outputs": [
    {
     "data": {
      "image/png": "[encoded data removed]",
      "text/latex": [
       "$$\\left ( a, \\quad b\\right )$$"
      ],
      "text/plain": [
       "(a, b)"
      ]
     },
     "execution_count": 23,
     "metadata": {},
     "output_type": "execute_result"
    }
   ],
   "source": [
    "# And we can even use this instead of Symbol() and symbols() \n",
    "a,b = S('a,b')\n",
    "a,b"
   ]
  },
  {
   "cell_type": "markdown",
   "metadata": {},
   "source": [
    "This offers up neat possibilities for user interactivity with SymPy"
   ]
  },
  {
   "cell_type": "code",
   "execution_count": 242,
   "metadata": {},
   "outputs": [],
   "source": [
    "from sympy import SympifyError, pprint\n",
    "def plot_expression():\n",
    "    y = S('y')\n",
    "    expr = input('Enter an expression to plot: ')\n",
    "    try:\n",
    "        expr = sympify(expr)\n",
    "    except SympifyError:\n",
    "        print('Invalid input')\n",
    "        return\n",
    "    solutions = solve(expr, y)\n",
    "    print(\"Expression has \" + str(len(solutions)) + \" solutions in terms of y:\")\n",
    "    for solution in solutions:\n",
    "        if solutions[0] == solution:\n",
    "            composite_plot = plot(solution, show = False)\n",
    "        else:\n",
    "            composite_plot.extend(plot(solution, show = False))\n",
    "    composite_plot.show()\n",
    "    return solutions"
   ]
  },
  {
   "cell_type": "code",
   "execution_count": 243,
   "metadata": {},
   "outputs": [
    {
     "name": "stdout",
     "output_type": "stream",
     "text": [
      "Enter an expression to plot: 12*x**3 - 9*y**2\n",
      "Expression has 2 solutions in terms of y:\n"
     ]
    },
    {
     "data": {
      "image/png": "[encoded data removed]",
      "text/plain": [
       "<Figure size 360x360 with 1 Axes>"
      ]
     },
     "metadata": {
      "needs_background": "light"
     },
     "output_type": "display_data"
    },
    {
     "data": {
      "image/png": "[encoded data removed]",
      "text/latex": [
       "$$\\left [ - \\frac{2 \\sqrt{3} \\sqrt{x^{3}}}{3}, \\quad \\frac{2 \\sqrt{3} \\sqrt{x^{3}}}{3}\\right ]$$"
      ],
      "text/plain": [
       "⎡         ____           ____⎤\n",
       "⎢        ╱  3           ╱  3 ⎥\n",
       "⎢-2⋅√3⋅╲╱  x     2⋅√3⋅╲╱  x  ⎥\n",
       "⎢──────────────, ────────────⎥\n",
       "⎣      3              3      ⎦"
      ]
     },
     "execution_count": 243,
     "metadata": {},
     "output_type": "execute_result"
    }
   ],
   "source": [
    "plot_expression()"
   ]
  },
  {
   "cell_type": "markdown",
   "metadata": {},
   "source": [
    "# **Intervals - A Prelude to Inequalities**"
   ]
  },
  {
   "cell_type": "markdown",
   "metadata": {},
   "source": [
    "An *interval* is the mathematical name for a range of numbers. Intervals come in a number of varieties, which we'll now examine. "
   ]
  },
  {
   "cell_type": "markdown",
   "metadata": {},
   "source": [
    "// Board - show number lines, closed and open dot notation"
   ]
  },
  {
   "cell_type": "markdown",
   "metadata": {},
   "source": [
    "**Open Intervals**"
   ]
  },
  {
   "cell_type": "markdown",
   "metadata": {},
   "source": [
    "An open interval contains all the numbers of the appropriate type between two bounds, but, importantly, *does not* contain the numbers exactly at the boundaries. <br>\n",
    "Think of this like the *open/closed* SOLID principle: the open interval is open for extension, i.e. the bounding values are not included."
   ]
  },
  {
   "cell_type": "code",
   "execution_count": 120,
   "metadata": {},
   "outputs": [
    {
     "data": {
      "image/png": "[encoded data removed]",
      "text/latex": [
       "$$\\left(\\frac{4}{3}, \\infty\\right)$$"
      ],
      "text/plain": [
       "(4/3, ∞)"
      ]
     },
     "execution_count": 120,
     "metadata": {},
     "output_type": "execute_result"
    }
   ],
   "source": [
    "from sympy import Interval, oo, Rational\n",
    "interval = Interval.open(Rational(4,3),oo)\n",
    "interval"
   ]
  },
  {
   "cell_type": "code",
   "execution_count": 25,
   "metadata": {},
   "outputs": [
    {
     "data": {
      "image/png": "[encoded data removed]",
      "text/latex": [
       "$$\\mathrm{False}$$"
      ],
      "text/plain": [
       "False"
      ]
     },
     "execution_count": 25,
     "metadata": {},
     "output_type": "execute_result"
    }
   ],
   "source": [
    "interval.contains(1)"
   ]
  },
  {
   "cell_type": "code",
   "execution_count": 26,
   "metadata": {},
   "outputs": [
    {
     "data": {
      "image/png": "[encoded data removed]",
      "text/latex": [
       "$$\\mathrm{True}$$"
      ],
      "text/plain": [
       "True"
      ]
     },
     "execution_count": 26,
     "metadata": {},
     "output_type": "execute_result"
    }
   ],
   "source": [
    "interval.contains(4)"
   ]
  },
  {
   "cell_type": "code",
   "execution_count": 27,
   "metadata": {},
   "outputs": [
    {
     "data": {
      "image/png": "[encoded data removed]",
      "text/latex": [
       "$$\\mathrm{False}$$"
      ],
      "text/plain": [
       "False"
      ]
     },
     "execution_count": 27,
     "metadata": {},
     "output_type": "execute_result"
    }
   ],
   "source": [
    "interval.contains(Rational(4/3))"
   ]
  },
  {
   "cell_type": "code",
   "execution_count": 28,
   "metadata": {},
   "outputs": [
    {
     "data": {
      "image/png": "[encoded data removed]",
      "text/latex": [
       "$$\\mathrm{False}$$"
      ],
      "text/plain": [
       "False"
      ]
     },
     "execution_count": 28,
     "metadata": {},
     "output_type": "execute_result"
    }
   ],
   "source": [
    "interval.contains(oo)"
   ]
  },
  {
   "cell_type": "markdown",
   "metadata": {},
   "source": [
    "**Closed Intervals**"
   ]
  },
  {
   "cell_type": "markdown",
   "metadata": {},
   "source": [
    "The closed interval is the opposite, the bounding numbers *are* included. <br>\n",
    "In open/closed terms, it's closed for extension..."
   ]
  },
  {
   "cell_type": "code",
   "execution_count": 118,
   "metadata": {},
   "outputs": [
    {
     "data": {
      "image/png": "[encoded data removed]",
      "text/latex": [
       "$$\\left[5, 7\\right]$$"
      ],
      "text/plain": [
       "[5, 7]"
      ]
     },
     "execution_count": 118,
     "metadata": {},
     "output_type": "execute_result"
    }
   ],
   "source": [
    "interval = Interval(5,7)\n",
    "interval"
   ]
  },
  {
   "cell_type": "code",
   "execution_count": 30,
   "metadata": {},
   "outputs": [
    {
     "data": {
      "image/png": "[encoded data removed]",
      "text/latex": [
       "$$\\mathrm{False}$$"
      ],
      "text/plain": [
       "False"
      ]
     },
     "execution_count": 30,
     "metadata": {},
     "output_type": "execute_result"
    }
   ],
   "source": [
    "interval.contains(1)"
   ]
  },
  {
   "cell_type": "code",
   "execution_count": 31,
   "metadata": {},
   "outputs": [
    {
     "data": {
      "image/png": "[encoded data removed]",
      "text/latex": [
       "$$\\mathrm{False}$$"
      ],
      "text/plain": [
       "False"
      ]
     },
     "execution_count": 31,
     "metadata": {},
     "output_type": "execute_result"
    }
   ],
   "source": [
    "interval.contains(8)"
   ]
  },
  {
   "cell_type": "code",
   "execution_count": 32,
   "metadata": {},
   "outputs": [
    {
     "data": {
      "image/png": "[encoded data removed]",
      "text/latex": [
       "$$\\mathrm{True}$$"
      ],
      "text/plain": [
       "True"
      ]
     },
     "execution_count": 32,
     "metadata": {},
     "output_type": "execute_result"
    }
   ],
   "source": [
    "interval.contains(5)"
   ]
  },
  {
   "cell_type": "code",
   "execution_count": 33,
   "metadata": {},
   "outputs": [
    {
     "data": {
      "image/png": "[encoded data removed]",
      "text/latex": [
       "$$\\mathrm{True}$$"
      ],
      "text/plain": [
       "True"
      ]
     },
     "execution_count": 33,
     "metadata": {},
     "output_type": "execute_result"
    }
   ],
   "source": [
    "interval.contains(7)"
   ]
  },
  {
   "cell_type": "markdown",
   "metadata": {},
   "source": [
    "**Left-Open Intervals**"
   ]
  },
  {
   "cell_type": "markdown",
   "metadata": {},
   "source": [
    "The left-open interval is *open* on the left-hand boundary, and *closed* on the right-hand boundary. "
   ]
  },
  {
   "cell_type": "code",
   "execution_count": 119,
   "metadata": {},
   "outputs": [
    {
     "data": {
      "image/png": "[encoded data removed]",
      "text/latex": [
       "$$\\left(1, 5\\right]$$"
      ],
      "text/plain": [
       "(1, 5]"
      ]
     },
     "execution_count": 119,
     "metadata": {},
     "output_type": "execute_result"
    }
   ],
   "source": [
    "interval = Interval.Lopen(1, 5)\n",
    "interval"
   ]
  },
  {
   "cell_type": "code",
   "execution_count": 35,
   "metadata": {},
   "outputs": [
    {
     "data": {
      "image/png": "[encoded data removed]",
      "text/latex": [
       "$$\\mathrm{False}$$"
      ],
      "text/plain": [
       "False"
      ]
     },
     "execution_count": 35,
     "metadata": {},
     "output_type": "execute_result"
    }
   ],
   "source": [
    "interval.contains(1)"
   ]
  },
  {
   "cell_type": "code",
   "execution_count": 36,
   "metadata": {},
   "outputs": [
    {
     "data": {
      "image/png": "[encoded data removed]",
      "text/latex": [
       "$$\\mathrm{True}$$"
      ],
      "text/plain": [
       "True"
      ]
     },
     "execution_count": 36,
     "metadata": {},
     "output_type": "execute_result"
    }
   ],
   "source": [
    "interval.contains(5)"
   ]
  },
  {
   "cell_type": "markdown",
   "metadata": {},
   "source": [
    "**Right-Open Intervals**"
   ]
  },
  {
   "cell_type": "markdown",
   "metadata": {},
   "source": [
    "Finally, the right-open interval is *closed* on the left-hand boundary, and *open* on the right-hand boundary."
   ]
  },
  {
   "cell_type": "code",
   "execution_count": 122,
   "metadata": {},
   "outputs": [
    {
     "data": {
      "image/png": "[encoded data removed]",
      "text/latex": [
       "$$\\left[-5, -2\\right)$$"
      ],
      "text/plain": [
       "[-5, -2)"
      ]
     },
     "execution_count": 122,
     "metadata": {},
     "output_type": "execute_result"
    }
   ],
   "source": [
    "interval = Interval.Ropen(-5, -2)\n",
    "interval"
   ]
  },
  {
   "cell_type": "code",
   "execution_count": 123,
   "metadata": {},
   "outputs": [
    {
     "data": {
      "image/png": "[encoded data removed]",
      "text/latex": [
       "$$\\mathrm{True}$$"
      ],
      "text/plain": [
       "True"
      ]
     },
     "execution_count": 123,
     "metadata": {},
     "output_type": "execute_result"
    }
   ],
   "source": [
    "interval.contains(-5)"
   ]
  },
  {
   "cell_type": "code",
   "execution_count": 124,
   "metadata": {},
   "outputs": [
    {
     "data": {
      "image/png": "[encoded data removed]",
      "text/latex": [
       "$$\\mathrm{False}$$"
      ],
      "text/plain": [
       "False"
      ]
     },
     "execution_count": 124,
     "metadata": {},
     "output_type": "execute_result"
    }
   ],
   "source": [
    "interval.contains(-2)"
   ]
  },
  {
   "cell_type": "markdown",
   "metadata": {},
   "source": [
    "**A Subtlety - Infinity and Closed Intervals**"
   ]
  },
  {
   "cell_type": "markdown",
   "metadata": {},
   "source": [
    "Note that +/- infinity is *never* included in closed intervals of any flavour"
   ]
  },
  {
   "cell_type": "code",
   "execution_count": 40,
   "metadata": {},
   "outputs": [],
   "source": [
    "interval = Interval(-oo, oo)"
   ]
  },
  {
   "cell_type": "code",
   "execution_count": 41,
   "metadata": {},
   "outputs": [
    {
     "data": {
      "image/png": "[encoded data removed]",
      "text/latex": [
       "$$\\mathrm{False}$$"
      ],
      "text/plain": [
       "False"
      ]
     },
     "execution_count": 41,
     "metadata": {},
     "output_type": "execute_result"
    }
   ],
   "source": [
    "interval.contains(-oo)"
   ]
  },
  {
   "cell_type": "code",
   "execution_count": 42,
   "metadata": {},
   "outputs": [
    {
     "data": {
      "image/png": "[encoded data removed]",
      "text/latex": [
       "$$\\mathrm{False}$$"
      ],
      "text/plain": [
       "False"
      ]
     },
     "execution_count": 42,
     "metadata": {},
     "output_type": "execute_result"
    }
   ],
   "source": [
    "interval.contains(oo)"
   ]
  },
  {
   "cell_type": "code",
   "execution_count": 43,
   "metadata": {},
   "outputs": [],
   "source": [
    "interval = Interval.Lopen(-1, oo)"
   ]
  },
  {
   "cell_type": "code",
   "execution_count": 44,
   "metadata": {},
   "outputs": [
    {
     "data": {
      "image/png": "[encoded data removed]",
      "text/latex": [
       "$$\\mathrm{False}$$"
      ],
      "text/plain": [
       "False"
      ]
     },
     "execution_count": 44,
     "metadata": {},
     "output_type": "execute_result"
    }
   ],
   "source": [
    "interval.contains(-1)"
   ]
  },
  {
   "cell_type": "code",
   "execution_count": 45,
   "metadata": {},
   "outputs": [
    {
     "data": {
      "image/png": "[encoded data removed]",
      "text/latex": [
       "$$\\mathrm{False}$$"
      ],
      "text/plain": [
       "False"
      ]
     },
     "execution_count": 45,
     "metadata": {},
     "output_type": "execute_result"
    }
   ],
   "source": [
    "interval.contains(oo)"
   ]
  },
  {
   "cell_type": "markdown",
   "metadata": {},
   "source": [
    "# **Single Variable Inequalities**"
   ]
  },
  {
   "cell_type": "markdown",
   "metadata": {},
   "source": [
    "**Linear Inequality**"
   ]
  },
  {
   "cell_type": "code",
   "execution_count": 46,
   "metadata": {},
   "outputs": [
    {
     "data": {
      "image/png": "[encoded data removed]",
      "text/latex": [
       "$$\\left(\\frac{2}{3}, \\infty\\right)$$"
      ],
      "text/plain": [
       "(2/3, ∞)"
      ]
     },
     "execution_count": 46,
     "metadata": {},
     "output_type": "execute_result"
    }
   ],
   "source": [
    "# Let's solve a linear inequality first\n",
    "from sympy import Poly, solve_poly_inequality\n",
    "x = symbols('x')\n",
    "inequality_object = -3*x +2 < 0\n",
    "lhs = inequality_object.lhs\n",
    "# Represent our linear lhs as a polynomial\n",
    "# solve_poly_inequality expects a Polynomial object as an argument\n",
    "p = Poly(lhs,x)\n",
    "# The relational operator is one of <, >, <=, >=\n",
    "relational_operator = inequality_object.rel_op\n",
    "solution_intervals = solve_poly_inequality(p, relational_operator)\n",
    "solution_intervals[0]"
   ]
  },
  {
   "cell_type": "code",
   "execution_count": 47,
   "metadata": {},
   "outputs": [
    {
     "data": {
      "image/png": "[encoded data removed]",
      "text/latex": [
       "$$\\left[\\frac{2}{3}, \\infty\\right)$$"
      ],
      "text/plain": [
       "[2/3, ∞)"
      ]
     },
     "execution_count": 47,
     "metadata": {},
     "output_type": "execute_result"
    }
   ],
   "source": [
    "# What happens if we change the relational operator\n",
    "inequality_object = -3*x +2 <= 0\n",
    "lhs = inequality_object.lhs\n",
    "p = Poly(lhs,x)\n",
    "relational_operator = inequality_object.rel_op\n",
    "solution_intervals = solve_poly_inequality(p, relational_operator)\n",
    "solution_intervals[0]"
   ]
  },
  {
   "cell_type": "code",
   "execution_count": 48,
   "metadata": {},
   "outputs": [
    {
     "data": {
      "image/png": "[encoded data removed]",
      "text/plain": [
       "<Figure size 432x288 with 1 Axes>"
      ]
     },
     "metadata": {
      "needs_background": "light"
     },
     "output_type": "display_data"
    },
    {
     "data": {
      "text/plain": [
       "<sympy.plotting.plot.Plot at 0x7f76a9688518>"
      ]
     },
     "execution_count": 48,
     "metadata": {},
     "output_type": "execute_result"
    }
   ],
   "source": [
    "# Think about how the solution interval relates to the roots of the line\n",
    "from sympy import plot\n",
    "plot(lhs)"
   ]
  },
  {
   "cell_type": "code",
   "execution_count": 49,
   "metadata": {},
   "outputs": [
    {
     "data": {
      "image/png": "[encoded data removed]",
      "text/latex": [
       "$$\\left [ \\frac{2}{3}\\right ]$$"
      ],
      "text/plain": [
       "[2/3]"
      ]
     },
     "execution_count": 49,
     "metadata": {},
     "output_type": "execute_result"
    }
   ],
   "source": [
    "from sympy import solve\n",
    "solve(lhs, x)"
   ]
  },
  {
   "cell_type": "markdown",
   "metadata": {},
   "source": [
    "**Quadratic Inequality**"
   ]
  },
  {
   "cell_type": "code",
   "execution_count": 50,
   "metadata": {},
   "outputs": [
    {
     "data": {
      "image/png": "[encoded data removed]",
      "text/latex": [
       "$$\\left [ \\left[- \\sqrt{2} + 1, 1 + \\sqrt{2}\\right]\\right ]$$"
      ],
      "text/plain": [
       "[[-√2 + 1, 1 + √2]]"
      ]
     },
     "execution_count": 50,
     "metadata": {},
     "output_type": "execute_result"
    }
   ],
   "source": [
    "inequality_object = x**2 - 2*x -1 <= 0\n",
    "lhs = inequality_object.lhs\n",
    "p = Poly(lhs,x)\n",
    "relational_operator = inequality_object.rel_op\n",
    "solution_intervals = solve_poly_inequality(p, relational_operator)\n",
    "solution_intervals"
   ]
  },
  {
   "cell_type": "code",
   "execution_count": 51,
   "metadata": {},
   "outputs": [
    {
     "data": {
      "image/png": "[encoded data removed]",
      "text/latex": [
       "$$\\left [ 1 + \\sqrt{2}, \\quad - \\sqrt{2} + 1\\right ]$$"
      ],
      "text/plain": [
       "[1 + √2, -√2 + 1]"
      ]
     },
     "execution_count": 51,
     "metadata": {},
     "output_type": "execute_result"
    }
   ],
   "source": [
    "# So, a single relational operator\n",
    "# Again, think about how this relates to the roots of the quadratic\n",
    "solve(lhs, x)"
   ]
  },
  {
   "cell_type": "code",
   "execution_count": 52,
   "metadata": {},
   "outputs": [
    {
     "data": {
      "image/png": "[encoded data removed]",
      "text/plain": [
       "<Figure size 432x288 with 1 Axes>"
      ]
     },
     "metadata": {
      "needs_background": "light"
     },
     "output_type": "display_data"
    },
    {
     "data": {
      "text/plain": [
       "<sympy.plotting.plot.Plot at 0x7f76a922b7f0>"
      ]
     },
     "execution_count": 52,
     "metadata": {},
     "output_type": "execute_result"
    }
   ],
   "source": [
    "plot(lhs, (x, -1, 3))"
   ]
  },
  {
   "cell_type": "code",
   "execution_count": 53,
   "metadata": {},
   "outputs": [
    {
     "data": {
      "image/png": "[encoded data removed]",
      "text/latex": [
       "$$\\left [ \\left(-\\infty, - \\sqrt{2} + 1\\right), \\quad \\left(1 + \\sqrt{2}, \\infty\\right)\\right ]$$"
      ],
      "text/plain": [
       "[(-∞, -√2 + 1), (1 + √2, ∞)]"
      ]
     },
     "execution_count": 53,
     "metadata": {},
     "output_type": "execute_result"
    }
   ],
   "source": [
    "# In particular, what happens to the solution intervals if we 'reverse' the relational operator\n",
    "inequality_object = x**2 - 2*x -1 > 0\n",
    "lhs = inequality_object.lhs\n",
    "p = Poly(lhs,x)\n",
    "relational_operator = inequality_object.rel_op\n",
    "solution_intervals = solve_poly_inequality(p, relational_operator)\n",
    "solution_intervals"
   ]
  },
  {
   "cell_type": "code",
   "execution_count": 54,
   "metadata": {},
   "outputs": [],
   "source": [
    "# Now we have two solution intervals. Why? Look at the plot above of the quadratic."
   ]
  },
  {
   "cell_type": "markdown",
   "metadata": {},
   "source": [
    "**Cubic Inequality**"
   ]
  },
  {
   "cell_type": "markdown",
   "metadata": {},
   "source": [
    "Have a go at interpreting the solution intervals produced for the following inequality, thinking again about the relationship between the inequality and the roots of the polynomial"
   ]
  },
  {
   "cell_type": "code",
   "execution_count": 55,
   "metadata": {},
   "outputs": [],
   "source": [
    "inequality_object = 4*x**3 + 4*x**2 - 12*x - 3 >= 0"
   ]
  },
  {
   "cell_type": "markdown",
   "metadata": {},
   "source": [
    "Solution"
   ]
  },
  {
   "cell_type": "code",
   "execution_count": 56,
   "metadata": {},
   "outputs": [
    {
     "data": {
      "image/png": "[encoded data removed]",
      "text/plain": [
       "<Figure size 432x288 with 1 Axes>"
      ]
     },
     "metadata": {
      "needs_background": "light"
     },
     "output_type": "display_data"
    },
    {
     "data": {
      "text/plain": [
       "<sympy.plotting.plot.Plot at 0x7f76a96a7e48>"
      ]
     },
     "execution_count": 56,
     "metadata": {},
     "output_type": "execute_result"
    }
   ],
   "source": [
    "lhs = inequality_object.lhs\n",
    "plot(lhs, (x, -3, 3))"
   ]
  },
  {
   "cell_type": "code",
   "execution_count": 57,
   "metadata": {},
   "outputs": [
    {
     "data": {
      "image/png": "[encoded data removed]",
      "text/latex": [
       "$$\\left [ \\left[\\operatorname{CRootOf} {\\left(4 x^{3} + 4 x^{2} - 12 x - 3, 0\\right)}, \\operatorname{CRootOf} {\\left(4 x^{3} + 4 x^{2} - 12 x - 3, 1\\right)}\\right], \\quad \\left[\\operatorname{CRootOf} {\\left(4 x^{3} + 4 x^{2} - 12 x - 3, 2\\right)}, \\infty\\right)\\right ]$$"
      ],
      "text/plain": [
       "⎡⎡       ⎛   3      2              ⎞         ⎛   3      2              ⎞⎤  ⎡  \n",
       "⎣⎣CRootOf⎝4⋅x  + 4⋅x  - 12⋅x - 3, 0⎠, CRootOf⎝4⋅x  + 4⋅x  - 12⋅x - 3, 1⎠⎦, ⎣CR\n",
       "\n",
       "     ⎛   3      2              ⎞   ⎞⎤\n",
       "ootOf⎝4⋅x  + 4⋅x  - 12⋅x - 3, 2⎠, ∞⎠⎦"
      ]
     },
     "execution_count": 57,
     "metadata": {},
     "output_type": "execute_result"
    }
   ],
   "source": [
    "from sympy import N\n",
    "p = Poly(lhs,x)\n",
    "relational_operator = inequality_object.rel_op\n",
    "solution_intervals = solve_poly_inequality(p, relational_operator)\n",
    "solution_intervals"
   ]
  },
  {
   "cell_type": "code",
   "execution_count": 58,
   "metadata": {},
   "outputs": [
    {
     "name": "stdout",
     "output_type": "stream",
     "text": [
      "Interval(-2.20587173105279, -0.235833050882057)\n",
      "Interval(1.44170478193485, Infinity)\n"
     ]
    }
   ],
   "source": [
    "for solution_interval in solution_intervals:\n",
    "    print(N(solution_interval))"
   ]
  }
 ],
 "metadata": {
  "kernelspec": {
   "display_name": "Python 3",
   "language": "python",
   "name": "python3"
  },
  "language_info": {
   "codemirror_mode": {
    "name": "ipython",
    "version": 3
   },
   "file_extension": ".py",
   "mimetype": "text/x-python",
   "name": "python",
   "nbconvert_exporter": "python",
   "pygments_lexer": "ipython3",
   "version": "3.6.6"
  }
 },
 "nbformat": 4,
 "nbformat_minor": 2
}
