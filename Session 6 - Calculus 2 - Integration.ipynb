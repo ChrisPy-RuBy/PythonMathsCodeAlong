{
 "cells": [
  {
   "cell_type": "markdown",
   "metadata": {},
   "source": [
    "# **Basic theory of integration**"
   ]
  },
  {
   "cell_type": "markdown",
   "metadata": {},
   "source": [
    "Integration is basically differentiation in reverse, although some mathematicians would quibble about this. For this reason, the process of *integrating* a function is sometimes termed *taking the anti-derivative*. "
   ]
  },
  {
   "cell_type": "markdown",
   "metadata": {},
   "source": [
    "Unlike differentiation, there is often no prescribed process or 'recipe' to integrate a particular function, you literally think about reversing the process of taking a derivative.  "
   ]
  },
  {
   "cell_type": "markdown",
   "metadata": {},
   "source": [
    "**How do we 'reassemble' a function from its derivative?**"
   ]
  },
  {
   "cell_type": "markdown",
   "metadata": {},
   "source": [
    "Let's adopt the normal convention when discussing integrals that F(x) is the original function (we are trying to find this), and f(x) is the derivative (which we have). How do we 'build' the original function back up from the derivative? <br>\n",
    "<br>\n",
    "Let's start at x = 0. We don't know what the value of the function, F(0), is at this point, so we'll just assume it's a constant, c. We're going to build our function up using tiny steps, delta_x. <br><br>How do we get F one step later, i.e. F(delta_x)? We start at F(0) = c and add on delta_x * f(0), given that f(0) is the *gradient* at x=0, so f(0) * delta_x gives us a small change in F. <br><br>What about F(2 * delta_x)? This will be given by c + delta_x * f(0) + delta_x * f(x), i.e. the sum of the constant and *two* small changes in F.<br><br> We keep doing this all the way up to the x-value we are interested in."
   ]
  },
  {
   "cell_type": "markdown",
   "metadata": {},
   "source": [
    "**Let's do this using SymPy**<br>\n",
    "As for derivatives, we'll derive this formally once"
   ]
  },
  {
   "cell_type": "code",
   "execution_count": 1,
   "metadata": {},
   "outputs": [],
   "source": [
    "from sympy import Symbol, symbols, Sum, Limit, oo, init_printing\n",
    "init_printing()"
   ]
  },
  {
   "cell_type": "code",
   "execution_count": 2,
   "metadata": {},
   "outputs": [],
   "source": [
    "x, N, i, c = symbols('x, N, i, c')"
   ]
  },
  {
   "cell_type": "code",
   "execution_count": 4,
   "metadata": {},
   "outputs": [],
   "source": [
    "# Here's our gradient function\n",
    "# A cubic gradient means that the original function F is quartic\n",
    "f_x = x**3+2*x\n",
    "# N is the total number of integration steps. So delta_x = x / N\n",
    "delta_x = x/N\n",
    "# This is what we pass in to be summed\n",
    "arg = (f_x.subs({x: i*delta_x}))*delta_x"
   ]
  },
  {
   "cell_type": "code",
   "execution_count": 5,
   "metadata": {},
   "outputs": [],
   "source": [
    "# We sum our argument over N integration steps, and add on the unknown constant\n",
    "disc_sum = c + Sum(arg, (i,1,N))"
   ]
  },
  {
   "cell_type": "code",
   "execution_count": 6,
   "metadata": {},
   "outputs": [
    {
     "data": {
      "image/png": "[encoded data removed]",
      "text/latex": [
       "$$c + \\frac{2 x^{2} \\left(\\frac{N^{2}}{2} + \\frac{N}{2}\\right)}{N^{2}} + \\frac{x^{4} \\left(\\frac{N^{4}}{4} + \\frac{N^{3}}{2} + \\frac{N^{2}}{4}\\right)}{N^{4}}$$"
      ],
      "text/plain": [
       "         ⎛ 2    ⎞      ⎛ 4    3    2⎞\n",
       "       2 ⎜N    N⎟    4 ⎜N    N    N ⎟\n",
       "    2⋅x ⋅⎜── + ─⎟   x ⋅⎜── + ── + ──⎟\n",
       "         ⎝2    2⎠      ⎝4    2    4 ⎠\n",
       "c + ───────────── + ─────────────────\n",
       "           2                 4       \n",
       "          N                 N        "
      ]
     },
     "execution_count": 6,
     "metadata": {},
     "output_type": "execute_result"
    }
   ],
   "source": [
    "disc_sum.doit()"
   ]
  },
  {
   "cell_type": "code",
   "execution_count": 7,
   "metadata": {},
   "outputs": [
    {
     "data": {
      "image/png": "[encoded data removed]",
      "text/latex": [
       "$$c + \\frac{x^{4}}{4} + x^{2}$$"
      ],
      "text/plain": [
       "     4     \n",
       "    x     2\n",
       "c + ── + x \n",
       "    4      "
      ]
     },
     "execution_count": 7,
     "metadata": {},
     "output_type": "execute_result"
    }
   ],
   "source": [
    "# As for the derivative, we get the integral by taking the limit as delta_x goes to zero.\n",
    "# Here this is equivalent to letting N go to infinity\n",
    "F_x = Limit(disc_sum, N, oo).doit()\n",
    "F_x"
   ]
  },
  {
   "cell_type": "markdown",
   "metadata": {},
   "source": [
    "So F(x) is a quartic function, as expected"
   ]
  },
  {
   "cell_type": "markdown",
   "metadata": {},
   "source": [
    "**The significance of c**<br>\n",
    "What's the deal with this c-value? <br>\n",
    "The *constant of integration*, as it is known, arises because the original function F(x) may have contained a constant that would have disappeared on differentiation. So, when we integrate the gradient f(x), hoping to get back to F(x), we cannot know what constant value, if any, was present prior to differentiation. Let's see this more clearly..."
   ]
  },
  {
   "cell_type": "code",
   "execution_count": 8,
   "metadata": {},
   "outputs": [],
   "source": [
    "from sympy import Derivative, Integral"
   ]
  },
  {
   "cell_type": "code",
   "execution_count": 9,
   "metadata": {},
   "outputs": [
    {
     "data": {
      "image/png": "[encoded data removed]",
      "text/latex": [
       "$$4 x^{3} - 12 x + 2$$"
      ],
      "text/plain": [
       "   3           \n",
       "4⋅x  - 12⋅x + 2"
      ]
     },
     "execution_count": 9,
     "metadata": {},
     "output_type": "execute_result"
    }
   ],
   "source": [
    "# Here's our original function with constant +2\n",
    "F_x = 4*x**3 - 12*x + 2\n",
    "F_x"
   ]
  },
  {
   "cell_type": "code",
   "execution_count": 10,
   "metadata": {},
   "outputs": [
    {
     "data": {
      "image/png": "[encoded data removed]",
      "text/latex": [
       "$$12 x^{2} - 12$$"
      ],
      "text/plain": [
       "    2     \n",
       "12⋅x  - 12"
      ]
     },
     "execution_count": 10,
     "metadata": {},
     "output_type": "execute_result"
    }
   ],
   "source": [
    "# Here's the derivative. Note that the constant has disappeared, as it doesn't depend on x by definition\n",
    "f_x = Derivative(F_x, x, 1).doit()\n",
    "f_x"
   ]
  },
  {
   "cell_type": "code",
   "execution_count": 11,
   "metadata": {},
   "outputs": [
    {
     "data": {
      "image/png": "[encoded data removed]",
      "text/latex": [
       "$$\\int \\left(12 x^{2} - 12\\right)\\, dx$$"
      ],
      "text/plain": [
       "⌠                \n",
       "⎮ ⎛    2     ⎞   \n",
       "⎮ ⎝12⋅x  - 12⎠ dx\n",
       "⌡                "
      ]
     },
     "execution_count": 11,
     "metadata": {},
     "output_type": "execute_result"
    }
   ],
   "source": [
    "integral = Integral(f_x, x)\n",
    "integral"
   ]
  },
  {
   "cell_type": "code",
   "execution_count": 12,
   "metadata": {},
   "outputs": [
    {
     "data": {
      "image/png": "[encoded data removed]",
      "text/latex": [
       "$$4 x^{3} - 12 x$$"
      ],
      "text/plain": [
       "   3       \n",
       "4⋅x  - 12⋅x"
      ]
     },
     "execution_count": 12,
     "metadata": {},
     "output_type": "execute_result"
    }
   ],
   "source": [
    "integral.doit()"
   ]
  },
  {
   "cell_type": "markdown",
   "metadata": {},
   "source": [
    "Note that the original constant +2 has disappeared! This is why we pop in a constant c to remind ourselves that the integrated function is defined *only up to a constant*! <br><br> Integrals defined in this way are known as *indefinite integrals*: indefinite because we cannot really know the true form of the original function without knowing the coordinates of at least one point lying upon it."
   ]
  },
  {
   "cell_type": "markdown",
   "metadata": {},
   "source": [
    "**Definite integrals and the area under a curve**<br><br>\n",
    "If you look carefully at what we did above, you can see that we summed up a whole series of really thin rectangles of height f(x) and width delta_x, where each rectangle was bounded above by the height of the function at that point f(x), and below by the x-axis. We began adding the strips together at x = 0 on the left, and stopped at x on the right. <br><br>\n",
    "**The integral of a function is related in some fashion to the area under the curve**. This is a key finding! <br><br>\n",
    "To be more precise, we need to think about properly bounding the area to be integrated on the left and right. Then, we avoid any problems related to the constant of integration, and we are dealing with a fully defined problem.<br><br>\n",
    "//Show this on board, definition of a definite integral as F(right_limit) - F(left_limit), cancellation of c<br><br>\n",
    "These bounds are known as the *limits of integration*, and are typically written above and below the long integral sign (the *summa*). When upper and lower limits are present, the integral is termed a *definite integral*, yielding the area under the curve between the two limits.<br><br>\n"
   ]
  },
  {
   "cell_type": "code",
   "execution_count": 13,
   "metadata": {},
   "outputs": [
    {
     "data": {
      "image/png": "[encoded data removed]",
      "text/latex": [
       "$$\\int_{0}^{5} 2 x^{2}\\, dx$$"
      ],
      "text/plain": [
       "5        \n",
       "⌠        \n",
       "⎮    2   \n",
       "⎮ 2⋅x  dx\n",
       "⌡        \n",
       "0        "
      ]
     },
     "execution_count": 13,
     "metadata": {},
     "output_type": "execute_result"
    }
   ],
   "source": [
    "f_x = 2*x**2\n",
    "def_integral = Integral(f_x, (x, 0, 5)) \n",
    "def_integral"
   ]
  },
  {
   "cell_type": "code",
   "execution_count": 14,
   "metadata": {},
   "outputs": [
    {
     "data": {
      "text/plain": [
       "<Figure size 640x480 with 1 Axes>"
      ]
     },
     "metadata": {},
     "output_type": "display_data"
    },
    {
     "data": {
      "text/plain": [
       "<sympy.plotting.plot.Plot at 0x120656748>"
      ]
     },
     "execution_count": 14,
     "metadata": {},
     "output_type": "execute_result"
    }
   ],
   "source": [
    "from sympy import plot\n",
    "plot(f_x, (x, 0, 5))"
   ]
  },
  {
   "cell_type": "code",
   "execution_count": 15,
   "metadata": {},
   "outputs": [
    {
     "data": {
      "image/png": "[encoded data removed]",
      "text/latex": [
       "$$\\frac{250}{3}$$"
      ],
      "text/plain": [
       "250/3"
      ]
     },
     "execution_count": 15,
     "metadata": {},
     "output_type": "execute_result"
    }
   ],
   "source": [
    "# Now let's get the area\n",
    "def_integral.doit()"
   ]
  },
  {
   "cell_type": "markdown",
   "metadata": {},
   "source": [
    "// Show the working for this on the board"
   ]
  },
  {
   "cell_type": "code",
   "execution_count": 16,
   "metadata": {},
   "outputs": [
    {
     "data": {
      "image/png": "[encoded data removed]",
      "text/plain": [
       "<Figure size 432x288 with 1 Axes>"
      ]
     },
     "metadata": {
      "needs_background": "light"
     },
     "output_type": "display_data"
    },
    {
     "data": {
      "text/plain": [
       "<sympy.plotting.plot.Plot at 0x120656208>"
      ]
     },
     "execution_count": 16,
     "metadata": {},
     "output_type": "execute_result"
    }
   ],
   "source": [
    "# Let's extend the left limit of integration to -5\n",
    "# Before you do the integral, look at this plot of the function on that domain and try to figure out\n",
    "# whether the extended area will be simply related to the area we calculated above.\n",
    "plot(f_x, (x, -5, 5))"
   ]
  },
  {
   "cell_type": "code",
   "execution_count": 17,
   "metadata": {},
   "outputs": [
    {
     "data": {
      "image/png": "[encoded data removed]",
      "text/latex": [
       "$$\\frac{500}{3}$$"
      ],
      "text/plain": [
       "500/3"
      ]
     },
     "execution_count": 17,
     "metadata": {},
     "output_type": "execute_result"
    }
   ],
   "source": [
    "extended_def_integral = Integral(f_x, (x, -5, 5)).doit()\n",
    "extended_def_integral"
   ]
  },
  {
   "cell_type": "markdown",
   "metadata": {},
   "source": [
    "// Double the previous area because x^2 is an *even* function, i.e. f(x) = f(-x), so the +ve x section contributes an area equal to the -ve x section.\n",
    "// We can also define an *odd* function as one obeying f(x) = -f(-x)"
   ]
  },
  {
   "cell_type": "code",
   "execution_count": 18,
   "metadata": {},
   "outputs": [
    {
     "data": {
      "image/png": "[encoded data removed]",
      "text/plain": [
       "<Figure size 432x288 with 1 Axes>"
      ]
     },
     "metadata": {
      "needs_background": "light"
     },
     "output_type": "display_data"
    },
    {
     "data": {
      "text/plain": [
       "<sympy.plotting.plot.Plot at 0x120a4edd8>"
      ]
     },
     "execution_count": 18,
     "metadata": {},
     "output_type": "execute_result"
    }
   ],
   "source": [
    "# The definite integral of an odd function between limits symmetric around zero is zero\n",
    "# // Discuss this on board\n",
    "# The simplest cubic is a good example of an odd function\n",
    "cubic = x**3\n",
    "plot(cubic, (x, -5, 5))"
   ]
  },
  {
   "cell_type": "markdown",
   "metadata": {},
   "source": [
    "Note that the area provided by a definite integral is a *signed* area. By this, we mean that if f(x) is positive at and everywhere between the limits of integration, the area will also be positive. Similarly, if f(x) is negative at and everywhere between the limits of integration, the area will be negative. If f(x) is in places positive and in places negative between the limits of integration, then the integrated area could potentially be zero! "
   ]
  },
  {
   "cell_type": "code",
   "execution_count": 19,
   "metadata": {},
   "outputs": [
    {
     "data": {
      "image/png": "[encoded data removed]",
      "text/latex": [
       "$$\\frac{625}{4}$$"
      ],
      "text/plain": [
       "625/4"
      ]
     },
     "execution_count": 19,
     "metadata": {},
     "output_type": "execute_result"
    }
   ],
   "source": [
    "# Positive interval between limits\n",
    "def_integral_pos = Integral(cubic, (x, 0, 5))\n",
    "def_integral_pos.doit()"
   ]
  },
  {
   "cell_type": "code",
   "execution_count": 20,
   "metadata": {},
   "outputs": [
    {
     "data": {
      "image/png": "[encoded data removed]",
      "text/latex": [
       "$$- \\frac{625}{4}$$"
      ],
      "text/plain": [
       "-625/4"
      ]
     },
     "execution_count": 20,
     "metadata": {},
     "output_type": "execute_result"
    }
   ],
   "source": [
    "# Negative interval between limits\n",
    "def_integral_neg = Integral(cubic, (x, -5, 0))\n",
    "def_integral_neg.doit()"
   ]
  },
  {
   "cell_type": "code",
   "execution_count": 21,
   "metadata": {},
   "outputs": [
    {
     "data": {
      "image/png": "[encoded data removed]",
      "text/latex": [
       "$$0$$"
      ],
      "text/plain": [
       "0"
      ]
     },
     "execution_count": 21,
     "metadata": {},
     "output_type": "execute_result"
    }
   ],
   "source": [
    "# Symmetric limits - the positive and negative parts cancel\n",
    "def_integral_symm = Integral(cubic, (x, -5, 5))\n",
    "def_integral_symm.doit()"
   ]
  },
  {
   "cell_type": "markdown",
   "metadata": {},
   "source": [
    "// Try doing similar definite integrals with symmetric limits for sin() and cos()"
   ]
  },
  {
   "cell_type": "markdown",
   "metadata": {},
   "source": [
    "# **Differential equations**"
   ]
  },
  {
   "cell_type": "markdown",
   "metadata": {},
   "source": [
    "A *differential equation* is an equation in which an unknown function and a derivative occur together. In solving this equation we are looking for a function that satisfies the equation. The function we get may have undetermined parameters of some sort, which we would then need to determine based upon the *initial conditions* of the problem under study.<br><br> \n",
    "So far, so dry. Let's look at a real example"
   ]
  },
  {
   "cell_type": "code",
   "execution_count": 37,
   "metadata": {},
   "outputs": [
    {
     "data": {
      "image/png": "[encoded data removed]",
      "text/latex": [
       "$$f{\\left (x \\right )} - \\frac{d}{d x} f{\\left (x \\right )} = 0$$"
      ],
      "text/plain": [
       "       d           \n",
       "f(x) - ──(f(x)) = 0\n",
       "       dx          "
      ]
     },
     "execution_count": 37,
     "metadata": {},
     "output_type": "execute_result"
    }
   ],
   "source": [
    "from sympy import Function, dsolve, Derivative, Eq, simplify\n",
    "f = Function('f')\n",
    "f_p = Derivative(f(x), x, 1)\n",
    "diff_eq = Eq(f(x) - f_p, 0)\n",
    "# Here's our differential equation. Note that the function and the derivative both occur together in it!\n",
    "diff_eq"
   ]
  },
  {
   "cell_type": "code",
   "execution_count": 38,
   "metadata": {},
   "outputs": [
    {
     "data": {
      "image/png": "[encoded data removed]",
      "text/latex": [
       "$$f{\\left (x \\right )} = C_{1} e^{x}$$"
      ],
      "text/plain": [
       "           x\n",
       "f(x) = C₁⋅ℯ "
      ]
     },
     "execution_count": 38,
     "metadata": {},
     "output_type": "execute_result"
    }
   ],
   "source": [
    "# Now let's solve it using dsolve\n",
    "soln = dsolve(diff_eq)\n",
    "soln"
   ]
  },
  {
   "cell_type": "markdown",
   "metadata": {},
   "source": [
    "Note that the solution involves a freely definable variable C_1"
   ]
  },
  {
   "cell_type": "code",
   "execution_count": 44,
   "metadata": {},
   "outputs": [
    {
     "data": {
      "image/png": "[encoded data removed]",
      "text/latex": [
       "$$0$$"
      ],
      "text/plain": [
       "0"
      ]
     },
     "execution_count": 44,
     "metadata": {},
     "output_type": "execute_result"
    }
   ],
   "source": [
    "# Let's verify this works\n",
    "diff_eq.lhs.subs({f(x): soln.rhs}).doit()"
   ]
  },
  {
   "cell_type": "code",
   "execution_count": 46,
   "metadata": {},
   "outputs": [
    {
     "data": {
      "image/png": "[encoded data removed]",
      "text/latex": [
       "$$9 f{\\left (x \\right )} + \\frac{d^{2}}{d x^{2}} f{\\left (x \\right )} = 1$$"
      ],
      "text/plain": [
       "           2          \n",
       "          d           \n",
       "9⋅f(x) + ───(f(x)) = 1\n",
       "           2          \n",
       "         dx           "
      ]
     },
     "execution_count": 46,
     "metadata": {},
     "output_type": "execute_result"
    }
   ],
   "source": [
    "# Let's try another!\n",
    "f = Function('f')\n",
    "f_p2 = Derivative(f(x), x, 2)\n",
    "diff_eq = Eq(f_p2 + 9*f(x), 1)\n",
    "diff_eq"
   ]
  },
  {
   "cell_type": "code",
   "execution_count": 48,
   "metadata": {},
   "outputs": [
    {
     "data": {
      "image/png": "[encoded data removed]",
      "text/latex": [
       "$$f{\\left (x \\right )} = C_{1} \\sin{\\left (3 x \\right )} + C_{2} \\cos{\\left (3 x \\right )} + \\frac{1}{9}$$"
      ],
      "text/plain": [
       "f(x) = C₁⋅sin(3⋅x) + C₂⋅cos(3⋅x) + 1/9"
      ]
     },
     "execution_count": 48,
     "metadata": {},
     "output_type": "execute_result"
    }
   ],
   "source": [
    "soln = dsolve(diff_eq)\n",
    "soln"
   ]
  },
  {
   "cell_type": "markdown",
   "metadata": {},
   "source": [
    "Now we have two freely definable variables"
   ]
  },
  {
   "cell_type": "markdown",
   "metadata": {},
   "source": [
    "# **Solving differential equations - predator & prey model**"
   ]
  },
  {
   "cell_type": "markdown",
   "metadata": {},
   "source": [
    "**Lotka-Volterra equations**"
   ]
  },
  {
   "cell_type": "markdown",
   "metadata": {},
   "source": [
    "$${\\begin{aligned}{\\frac {dx}{dt}}&=\\alpha x-\\beta xy\\\\[6pt]{\\frac {dy}{dt}}&=\\delta xy-\\gamma y\\end{aligned}}$$"
   ]
  },
  {
   "cell_type": "markdown",
   "metadata": {},
   "source": [
    "The Lotka-Volterra model is one of the simplest models of the interaction between predator and prey species in an ecosystem. As you can see, they take the form of two coupled differential equations, where x is the population of prey animals, and y, the population of predator animals.<br><br>\n",
    "The interaction between the species is defined by four adjustable parameters $$\\alpha, \\beta, \\gamma, \\delta$$ where *alpha* governs the growth rate of the prey population, *beta* governs the rate at which the prey population is decreased by predation, *gamma* governs the decline rate of the predator population without food, and *delta* governs the rate at which the predator population is increased by predation."
   ]
  },
  {
   "cell_type": "code",
   "execution_count": 74,
   "metadata": {},
   "outputs": [],
   "source": [
    "import numpy as np\n",
    "from scipy.integrate import odeint\n",
    "alpha, beta, gamma, delta = 1, 0.2, 2, 0.1\n",
    "\n",
    "def dP_dt(P, t):\n",
    "# Here dP_dt takes t as an argument, but doesn't use it\n",
    "    dx_dt = alpha*P[0] - beta*P[0]*P[1]\n",
    "    dy_dt = delta*P[0]*P[1] - gamma*P[1]\n",
    "    return [dx_dt, dy_dt]\n",
    "\n",
    "# Set up a time array\n",
    "t = np.linspace(0, 20, 20000)\n",
    "# Here are the initial populations of prey P0[0] and predator P0[1]\n",
    "P0 = [8, 5]\n",
    "# Solve the differential equations for predator and prey populations by numerical integration.\n",
    "P_soln = odeint(dP_dt, P0, t)\n",
    "# Get the predator and prey populations from the P_soln array\n",
    "x = P_soln[:,0]\n",
    "y = P_soln[:,1]"
   ]
  },
  {
   "cell_type": "code",
   "execution_count": 75,
   "metadata": {},
   "outputs": [
    {
     "data": {
      "text/plain": [
       "<matplotlib.legend.Legend at 0x1523b5cdd8>"
      ]
     },
     "execution_count": 75,
     "metadata": {},
     "output_type": "execute_result"
    },
    {
     "data": {
      "image/png": "[encoded data removed]",
      "text/plain": [
       "<Figure size 432x288 with 1 Axes>"
      ]
     },
     "metadata": {
      "needs_background": "light"
     },
     "output_type": "display_data"
    }
   ],
   "source": [
    "import matplotlib.pyplot as plt\n",
    "plt.plot(t, x, label=\"prey\")\n",
    "plt.plot(t, y, label=\"predator\")\n",
    "plt.legend()"
   ]
  },
  {
   "cell_type": "code",
   "execution_count": null,
   "metadata": {},
   "outputs": [],
   "source": []
  }
 ],
 "metadata": {
  "kernelspec": {
   "display_name": "Python 3",
   "language": "python",
   "name": "python3"
  },
  "language_info": {
   "codemirror_mode": {
    "name": "ipython",
    "version": 3
   },
   "file_extension": ".py",
   "mimetype": "text/x-python",
   "name": "python",
   "nbconvert_exporter": "python",
   "pygments_lexer": "ipython3",
   "version": "3.7.0"
  }
 },
 "nbformat": 4,
 "nbformat_minor": 2
}
